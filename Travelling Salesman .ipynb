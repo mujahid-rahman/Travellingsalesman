{
 "cells": [
  {
   "cell_type": "code",
   "execution_count": 37,
   "metadata": {},
   "outputs": [],
   "source": [
    "# TSP using Dynamic Programming"
   ]
  },
  {
   "cell_type": "code",
   "execution_count": 26,
   "metadata": {},
   "outputs": [],
   "source": [
    "import time\n",
    "import numpy as np\n",
    "np.random.seed(42)\n",
    "\n",
    "import matplotlib.pyplot as plt\n",
    "%matplotlib inline"
   ]
  },
  {
   "cell_type": "code",
   "execution_count": 27,
   "metadata": {},
   "outputs": [],
   "source": [
    "def DP_TSP(distances_array):\n",
    "    n = len(distances_array)\n",
    "    all_points_set = set(range(n))\n",
    "\n",
    "    # memo keys: tuple(sorted_points_in_path, last_point_in_path)\n",
    "    # memo values: tuple(cost_thus_far, next_to_last_point_in_path)\n",
    "    memo = {(tuple([i]), i): tuple([0, None]) for i in range(n)}\n",
    "    queue = [(tuple([i]), i) for i in range(n)]\n",
    "\n",
    "    while queue:\n",
    "        prev_visited, prev_last_point = queue.pop(0)\n",
    "        prev_dist, _ = memo[(prev_visited, prev_last_point)]\n",
    "\n",
    "        to_visit = all_points_set.difference(set(prev_visited))\n",
    "        for new_last_point in to_visit:\n",
    "            new_visited = tuple(sorted(list(prev_visited) + [new_last_point]))\n",
    "            new_dist = prev_dist + distances_array[prev_last_point][new_last_point]\n",
    "\n",
    "            if (new_visited, new_last_point) not in memo:\n",
    "                memo[(new_visited, new_last_point)] = (new_dist, prev_last_point)\n",
    "                queue += [(new_visited, new_last_point)]\n",
    "            else:\n",
    "                if new_dist < memo[(new_visited, new_last_point)][0]:\n",
    "                    memo[(new_visited, new_last_point)] = (new_dist, prev_last_point)\n",
    "\n",
    "    optimal_path, optimal_cost = retrace_optimal_path(memo, n)\n",
    "\n",
    "    return optimal_path, optimal_cost"
   ]
  },
  {
   "cell_type": "code",
   "execution_count": 28,
   "metadata": {},
   "outputs": [],
   "source": [
    "def retrace_optimal_path(memo: dict, n: int) -> [[int], float]:\n",
    "    points_to_retrace = tuple(range(n))\n",
    "\n",
    "    full_path_memo = dict((k, v) for k, v in memo.items() if k[0] == points_to_retrace)\n",
    "    path_key = min(full_path_memo.keys(), key=lambda x: full_path_memo[x][0])\n",
    "\n",
    "    last_point = path_key[1]\n",
    "    optimal_cost, next_to_last_point = memo[path_key]\n",
    "\n",
    "    optimal_path = [last_point]\n",
    "    points_to_retrace = tuple(sorted(set(points_to_retrace).difference({last_point})))\n",
    "\n",
    "    while next_to_last_point is not None:\n",
    "        last_point = next_to_last_point\n",
    "        path_key = (points_to_retrace, last_point)\n",
    "        _, next_to_last_point = memo[path_key]\n",
    "\n",
    "        optimal_path = [last_point] + optimal_path\n",
    "        points_to_retrace = tuple(sorted(set(points_to_retrace).difference({last_point})))\n",
    "\n",
    "    return optimal_path, optimal_cost"
   ]
  },
  {
   "cell_type": "code",
   "execution_count": 29,
   "metadata": {},
   "outputs": [],
   "source": [
    "def plot_route(X, optimal_path):\n",
    "    for p1, p2 in zip(optimal_path[:-1], optimal_path[1:]):\n",
    "        plt.plot([X[p1, 0], X[p2,0]],[X[p1,1], X[p2,1]]);"
   ]
  },
  {
   "cell_type": "code",
   "execution_count": 30,
   "metadata": {},
   "outputs": [],
   "source": [
    "def generate_random_input(n_points):\n",
    "    X = np.random.rand(n_points, 2)\n",
    "    distances_array = np.array([[np.linalg.norm(X[i]-X[j])\n",
    "                                for i in range(n_points)]\n",
    "                               for j in range(n_points)])\n",
    "    return X, distances_array"
   ]
  },
  {
   "cell_type": "code",
   "execution_count": 31,
   "metadata": {},
   "outputs": [
    {
     "name": "stdout",
     "output_type": "stream",
     "text": [
      "Found optimal path in 0.341 seconds.\n",
      "Optimal cost: 2.484, optimal path: [5, 3, 0, 4, 1, 6, 10, 9, 8, 11, 7, 2]\n"
     ]
    }
   ],
   "source": [
    "input_size = 12\n",
    "X, distances_array = generate_random_input(input_size)\n",
    "\n",
    "t = time.time()\n",
    "optimal_path, optimal_cost = DP_TSP(distances_array)\n",
    "runtime = round(time.time() - t, 3)\n",
    "\n",
    "print(f\"Found optimal path in {runtime} seconds.\") \n",
    "print(f\"Optimal cost: {round(optimal_cost, 3)}, optimal path: {optimal_path}\")"
   ]
  },
  {
   "cell_type": "code",
   "execution_count": 32,
   "metadata": {},
   "outputs": [
    {
     "data": {
      "image/png": "[encoded data removed]",
      "text/plain": [
       "<Figure size 720x360 with 2 Axes>"
      ]
     },
     "metadata": {
      "needs_background": "light"
     },
     "output_type": "display_data"
    }
   ],
   "source": [
    "plt.figure(figsize=(10, 5));\n",
    "\n",
    "plt.subplot(1, 2, 1);\n",
    "plt.scatter(X[:, 0], X[:, 1]);\n",
    "\n",
    "plt.subplot(1, 2, 2);\n",
    "plot_route(X, optimal_path)\n",
    "\n",
    "plt.tight_layout();"
   ]
  },
  {
   "cell_type": "code",
   "execution_count": null,
   "metadata": {},
   "outputs": [],
   "source": []
  }
 ],
 "metadata": {
  "kernelspec": {
   "display_name": "Python 3",
   "language": "python",
   "name": "python3"
  },
  "language_info": {
   "codemirror_mode": {
    "name": "ipython",
    "version": 3
   },
   "file_extension": ".py",
   "mimetype": "text/x-python",
   "name": "python",
   "nbconvert_exporter": "python",
   "pygments_lexer": "ipython3",
   "version": "3.8.3"
  }
 },
 "nbformat": 4,
 "nbformat_minor": 4
}
